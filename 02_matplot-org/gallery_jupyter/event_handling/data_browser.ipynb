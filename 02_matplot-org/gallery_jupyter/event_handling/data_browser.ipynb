{
 "cells": [
  {
   "cell_type": "code",
   "execution_count": null,
   "metadata": {},
   "outputs": [],
   "source": [
    "%matplotlib inline"
   ]
  },
  {
   "cell_type": "markdown",
   "metadata": {},
   "source": [
    "\n",
    "# Data Browser\n",
    "\n",
    "\n",
    "Connecting data between multiple canvases.\n",
    "\n",
    "This example covers how to interact data with multiple canvases. This\n",
    "let's you select and highlight a point on one axis, and generating the\n",
    "data of that point on the other axis.\n",
    "\n"
   ]
  },
  {
   "cell_type": "code",
   "execution_count": 1,
   "metadata": {},
   "outputs": [],
   "source": [
    "import numpy as np\n",
    "\n",
    "\n",
    "class PointBrowser(object):\n",
    "    \"\"\"\n",
    "    Click on a point to select and highlight it -- the data that\n",
    "    generated the point will be shown in the lower axes.  Use the 'n'\n",
    "    and 'p' keys to browse through the next and previous points\n",
    "    \"\"\"\n",
    "\n",
    "    def __init__(self):\n",
    "        self.lastind = 0\n",
    "\n",
    "        self.text = ax.text(0.05, 0.95, 'selected: none',\n",
    "                            transform=ax.transAxes, va='top')\n",
    "        self.selected, = ax.plot([xs[0]], [ys[0]], 'o', ms=12, alpha=0.4,\n",
    "                                 color='yellow', visible=False)\n",
    "\n",
    "    def onpress(self, event):\n",
    "        if self.lastind is None:\n",
    "            return\n",
    "        if event.key not in ('n', 'p'):\n",
    "            return\n",
    "        if event.key == 'n':\n",
    "            inc = 1\n",
    "        else:\n",
    "            inc = -1\n",
    "\n",
    "        self.lastind += inc\n",
    "        self.lastind = np.clip(self.lastind, 0, len(xs) - 1)\n",
    "        self.update()\n",
    "\n",
    "    def onpick(self, event):\n",
    "\n",
    "        if event.artist != line:\n",
    "            return True\n",
    "\n",
    "        N = len(event.ind)\n",
    "        if not N:\n",
    "            return True\n",
    "\n",
    "        # the click locations\n",
    "        x = event.mouseevent.xdata\n",
    "        y = event.mouseevent.ydata\n",
    "\n",
    "        distances = np.hypot(x - xs[event.ind], y - ys[event.ind])\n",
    "        indmin = distances.argmin()\n",
    "        dataind = event.ind[indmin]\n",
    "\n",
    "        self.lastind = dataind\n",
    "        self.update()\n",
    "\n",
    "    def update(self):\n",
    "        if self.lastind is None:\n",
    "            return\n",
    "\n",
    "        dataind = self.lastind\n",
    "\n",
    "        ax2.cla()\n",
    "        ax2.plot(X[dataind])\n",
    "\n",
    "        ax2.text(0.05, 0.9, 'mu=%1.3f\\nsigma=%1.3f' % (xs[dataind], ys[dataind]),\n",
    "                 transform=ax2.transAxes, va='top')\n",
    "        ax2.set_ylim(-0.5, 1.5)\n",
    "        self.selected.set_visible(True)\n",
    "        self.selected.set_data(xs[dataind], ys[dataind])\n",
    "\n",
    "        self.text.set_text('selected: %d' % dataind)\n",
    "        fig.canvas.draw()\n",
    "\n"
   ]
  },
  {
   "cell_type": "code",
   "execution_count": 18,
   "metadata": {
    "scrolled": true
   },
   "outputs": [
    {
     "name": "stdout",
     "output_type": "stream",
     "text": [
      "[ 0.29468706  0.29409688  0.28606434  0.28179843  0.28473045  0.27804844\n",
      "  0.27978164  0.28368199  0.30015027  0.27421288  0.28640286  0.29604942\n",
      "  0.291209    0.28171482  0.28784203  0.28604495  0.28069942  0.29056111\n",
      "  0.27607444  0.28096068  0.29721276  0.29670587  0.29379024  0.29543302\n",
      "  0.27529902  0.28927197  0.29859506  0.30358907  0.29624862  0.27660658\n",
      "  0.27540796  0.29607883  0.30452444  0.30755232  0.28907281  0.2853224\n",
      "  0.29351306  0.27415399  0.29216742  0.27814979  0.29311946  0.28906271\n",
      "  0.28815912  0.29552643  0.29444815  0.29317837  0.28823363  0.28634837\n",
      "  0.28721897  0.26574684  0.28257051  0.2854511   0.28222985  0.29807154\n",
      "  0.30111727  0.28810082  0.29901176  0.27827353  0.27617661  0.2758873\n",
      "  0.2973191   0.27825282  0.28292636  0.27600956  0.27555896  0.28412305\n",
      "  0.28295432  0.3007283   0.28938474  0.26740576  0.28231424  0.28762714\n",
      "  0.27441958  0.28960032  0.3019749   0.29948083  0.29009822  0.2773657\n",
      "  0.28798881  0.27829172  0.28345532  0.29391598  0.304329    0.2674707\n",
      "  0.28264798  0.28719246  0.27298378  0.26786082  0.30805027  0.28331838\n",
      "  0.27721095  0.28930398  0.28845559  0.2760375   0.29097961  0.28734885\n",
      "  0.26668405  0.28923175  0.28595493  0.27680689]\n"
     ]
    },
    {
     "data": {
      "image/png": "[encoded data removed]",
      "text/plain": [
       "<matplotlib.figure.Figure at 0x9163588>"
      ]
     },
     "metadata": {},
     "output_type": "display_data"
    }
   ],
   "source": [
    "\n",
    "if __name__ == '__main__':\n",
    "    import matplotlib.pyplot as plt\n",
    "    # Fixing random state for reproducibility\n",
    "    np.random.seed(19680801)\n",
    "\n",
    "    X = np.random.rand(100, 200)\n",
    "    xs = np.mean(X, axis=1)  #列 平均\n",
    "    ys = np.std(X, axis=1)   #列 标准差\n",
    "    print(ys)\n",
    "    fig, (ax, ax2) = plt.subplots(2, 1)\n",
    "    ax.set_title('click on point to plot time series')\n",
    "    line, = ax.plot(xs, ys, 'o', picker=5)  # 5 points tolerance\n",
    "\n",
    "    browser = PointBrowser()\n",
    "\n",
    "    fig.canvas.mpl_connect('pick_event', browser.onpick)\n",
    "    fig.canvas.mpl_connect('key_press_event', browser.onpress)\n",
    "\n",
    "    plt.show()"
   ]
  },
  {
   "cell_type": "code",
   "execution_count": 3,
   "metadata": {
    "collapsed": true
   },
   "outputs": [],
   "source": [
    "np.random.seed(19680801)\n"
   ]
  },
  {
   "cell_type": "code",
   "execution_count": 21,
   "metadata": {
    "collapsed": true
   },
   "outputs": [],
   "source": [
    "X = np.random.rand(3, 2)"
   ]
  },
  {
   "cell_type": "code",
   "execution_count": 22,
   "metadata": {},
   "outputs": [
    {
     "data": {
      "text/plain": [
       "array([[ 0.08311801,  0.73319959],\n",
       "       [ 0.32291872,  0.44917166],\n",
       "       [ 0.06297392,  0.87516129]])"
      ]
     },
     "execution_count": 22,
     "metadata": {},
     "output_type": "execute_result"
    }
   ],
   "source": [
    "X"
   ]
  },
  {
   "cell_type": "code",
   "execution_count": 24,
   "metadata": {},
   "outputs": [
    {
     "data": {
      "text/plain": [
       "array([ 0.06297392,  0.87516129])"
      ]
     },
     "execution_count": 24,
     "metadata": {},
     "output_type": "execute_result"
    }
   ],
   "source": [
    "X[2]"
   ]
  },
  {
   "cell_type": "code",
   "execution_count": 6,
   "metadata": {},
   "outputs": [
    {
     "name": "stdout",
     "output_type": "stream",
     "text": [
      "(100, 200)\n"
     ]
    }
   ],
   "source": [
    "print(X.shape)"
   ]
  },
  {
   "cell_type": "code",
   "execution_count": 16,
   "metadata": {
    "collapsed": true
   },
   "outputs": [],
   "source": [
    "    xs = np.mean(X, axis=0)\n",
    "    ys = np.std(X, axis=1)"
   ]
  },
  {
   "cell_type": "code",
   "execution_count": 17,
   "metadata": {},
   "outputs": [
    {
     "data": {
      "text/plain": [
       "array([ 0.58655862,  0.62298823])"
      ]
     },
     "execution_count": 17,
     "metadata": {},
     "output_type": "execute_result"
    }
   ],
   "source": [
    "xs"
   ]
  },
  {
   "cell_type": "code",
   "execution_count": 15,
   "metadata": {},
   "outputs": [
    {
     "data": {
      "text/plain": [
       "array([ 0.09598264,  0.06403974,  0.10537796])"
      ]
     },
     "execution_count": 15,
     "metadata": {},
     "output_type": "execute_result"
    }
   ],
   "source": [
    "ys"
   ]
  },
  {
   "cell_type": "code",
   "execution_count": 19,
   "metadata": {},
   "outputs": [
    {
     "data": {
      "text/plain": [
       "array([[  7.00367304e-01,   7.42750809e-01,   7.09280011e-01, ...,\n",
       "          7.93417248e-01,   8.87228119e-01,   1.13490964e-01],\n",
       "       [  8.94279856e-02,   7.52063348e-02,   5.88670132e-01, ...,\n",
       "          8.86641145e-01,   5.98318272e-01,   6.88305822e-01],\n",
       "       [  5.76446337e-01,   9.61992234e-01,   3.80434503e-01, ...,\n",
       "          4.18053065e-01,   5.56830190e-02,   5.69258261e-01],\n",
       "       ..., \n",
       "       [  8.72741873e-01,   7.43774262e-01,   3.46924233e-01, ...,\n",
       "          8.07798621e-01,   3.99350643e-01,   6.57808545e-04],\n",
       "       [  8.81415689e-01,   6.06768575e-01,   7.10687907e-01, ...,\n",
       "          6.53458171e-01,   9.68434368e-02,   6.88656935e-02],\n",
       "       [  8.31048234e-01,   6.78693622e-01,   9.54814127e-01, ...,\n",
       "          7.55410408e-01,   2.52890887e-01,   4.02944822e-01]])"
      ]
     },
     "execution_count": 19,
     "metadata": {},
     "output_type": "execute_result"
    }
   ],
   "source": [
    "X"
   ]
  },
  {
   "cell_type": "code",
   "execution_count": null,
   "metadata": {
    "collapsed": true
   },
   "outputs": [],
   "source": []
  }
 ],
 "metadata": {
  "kernelspec": {
   "display_name": "Python 3",
   "language": "python",
   "name": "python3"
  },
  "language_info": {
   "codemirror_mode": {
    "name": "ipython",
    "version": 3
   },
   "file_extension": ".py",
   "mimetype": "text/x-python",
   "name": "python",
   "nbconvert_exporter": "python",
   "pygments_lexer": "ipython3",
   "version": "3.6.3"
  }
 },
 "nbformat": 4,
 "nbformat_minor": 1
}
