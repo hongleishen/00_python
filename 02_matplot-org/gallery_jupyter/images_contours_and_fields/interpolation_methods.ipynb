{
  "cells": [
    {
      "cell_type": "code",
      "execution_count": null,
      "metadata": {
        "collapsed": false
      },
      "outputs": [],
      "source": [
        "%matplotlib inline"
      ]
    },
    {
      "cell_type": "markdown",
      "metadata": {},
      "source": [
        "\n=================================\nInterpolations for imshow/matshow\n=================================\n\nThis example displays the difference between interpolation methods for\n:meth:`~.axes.Axes.imshow` and :meth:`~.axes.Axes.matshow`.\n\nIf `interpolation` is None, it defaults to the ``image.interpolation``\n:doc:`rc parameter </tutorials/introductory/customizing>`.\nIf the interpolation is ``'none'``, then no interpolation is performed\nfor the Agg, ps and pdf backends. Other backends will default to ``'nearest'``.\n\nFor the Agg, ps and pdf backends, ``interpolation = 'none'`` works well when a\nbig image is scaled down, while ``interpolation = 'nearest'`` works well when\na small image is scaled up.\n\n"
      ]
    },
    {
      "cell_type": "code",
      "execution_count": null,
      "metadata": {
        "collapsed": false
      },
      "outputs": [],
      "source": [
        "import matplotlib.pyplot as plt\nimport numpy as np\n\nmethods = [None, 'none', 'nearest', 'bilinear', 'bicubic', 'spline16',\n           'spline36', 'hanning', 'hamming', 'hermite', 'kaiser', 'quadric',\n           'catrom', 'gaussian', 'bessel', 'mitchell', 'sinc', 'lanczos']\n\n# Fixing random state for reproducibility\nnp.random.seed(19680801)\n\ngrid = np.random.rand(4, 4)\n\nfig, axs = plt.subplots(nrows=3, ncols=6, figsize=(9.3, 6),\n                        subplot_kw={'xticks': [], 'yticks': []})\n\nfig.subplots_adjust(left=0.03, right=0.97, hspace=0.3, wspace=0.05)\n\nfor ax, interp_method in zip(axs.flat, methods):\n    ax.imshow(grid, interpolation=interp_method, cmap='viridis')\n    ax.set_title(str(interp_method))\n\nplt.tight_layout()\nplt.show()"
      ]
    },
    {
      "cell_type": "markdown",
      "metadata": {},
      "source": [
        "------------\n\nReferences\n\"\"\"\"\"\"\"\"\"\"\n\nThe use of the following functions and methods is shown\nin this example:\n\n"
      ]
    },
    {
      "cell_type": "code",
      "execution_count": null,
      "metadata": {
        "collapsed": false
      },
      "outputs": [],
      "source": [
        "import matplotlib\nmatplotlib.axes.Axes.imshow\nmatplotlib.pyplot.imshow"
      ]
    }
  ],
  "metadata": {
    "kernelspec": {
      "display_name": "Python 3",
      "language": "python",
      "name": "python3"
    },
    "language_info": {
      "codemirror_mode": {
        "name": "ipython",
        "version": 3
      },
      "file_extension": ".py",
      "mimetype": "text/x-python",
      "name": "python",
      "nbconvert_exporter": "python",
      "pygments_lexer": "ipython3",
      "version": "3.7.2"
    }
  },
  "nbformat": 4,
  "nbformat_minor": 0
}