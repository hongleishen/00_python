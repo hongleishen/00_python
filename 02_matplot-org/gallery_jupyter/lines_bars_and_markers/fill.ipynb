{
  "cells": [
    {
      "cell_type": "code",
      "execution_count": null,
      "metadata": {
        "collapsed": false
      },
      "outputs": [],
      "source": [
        "%matplotlib inline"
      ]
    },
    {
      "cell_type": "markdown",
      "metadata": {},
      "source": [
        "\n# Fill plot demo\n\n\nDemo fill plot.\n\n"
      ]
    },
    {
      "cell_type": "markdown",
      "metadata": {},
      "source": [
        "First, the most basic fill plot a user can make with matplotlib:\n\n"
      ]
    },
    {
      "cell_type": "code",
      "execution_count": null,
      "metadata": {
        "collapsed": false
      },
      "outputs": [],
      "source": [
        "import numpy as np\nimport matplotlib.pyplot as plt\n\nx = [0, 1, 2, 1]\ny = [1, 2, 1, 0]\n\nfig, ax = plt.subplots()\nax.fill(x, y)\nplt.show()"
      ]
    },
    {
      "cell_type": "markdown",
      "metadata": {},
      "source": [
        "Next, a few more optional features:\n\n* Multiple curves with a single command.\n* Setting the fill color.\n* Setting the opacity (alpha value).\n\n"
      ]
    },
    {
      "cell_type": "code",
      "execution_count": null,
      "metadata": {
        "collapsed": false
      },
      "outputs": [],
      "source": [
        "x = np.linspace(0, 1.5 * np.pi, 500)\ny1 = np.sin(x)\ny2 = np.sin(3 * x)\n\nfig, ax = plt.subplots()\n\nax.fill(x, y1, 'b', x, y2, 'r', alpha=0.3)\n\n# Outline of the region we've filled in\nax.plot(x, y1, c='b', alpha=0.8)\nax.plot(x, y2, c='r', alpha=0.8)\nax.plot([x[0], x[-1]], [y1[0], y1[-1]], c='b', alpha=0.8)\nax.plot([x[0], x[-1]], [y2[0], y2[-1]], c='r', alpha=0.8)\n\nplt.show()"
      ]
    }
  ],
  "metadata": {
    "kernelspec": {
      "display_name": "Python 3",
      "language": "python",
      "name": "python3"
    },
    "language_info": {
      "codemirror_mode": {
        "name": "ipython",
        "version": 3
      },
      "file_extension": ".py",
      "mimetype": "text/x-python",
      "name": "python",
      "nbconvert_exporter": "python",
      "pygments_lexer": "ipython3",
      "version": "3.7.2"
    }
  },
  "nbformat": 4,
  "nbformat_minor": 0
}