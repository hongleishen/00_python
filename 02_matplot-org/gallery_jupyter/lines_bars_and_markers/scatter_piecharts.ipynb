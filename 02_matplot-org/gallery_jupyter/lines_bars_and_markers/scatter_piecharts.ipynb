{
  "cells": [
    {
      "cell_type": "code",
      "execution_count": null,
      "metadata": {
        "collapsed": false
      },
      "outputs": [],
      "source": [
        "%matplotlib inline"
      ]
    },
    {
      "cell_type": "markdown",
      "metadata": {},
      "source": [
        "\n# Scatter plot with pie chart markers\n\n\nThis example makes custom 'pie charts' as the markers for a scatter plot.\n\nThanks to Manuel Metz for the example\n\n"
      ]
    },
    {
      "cell_type": "code",
      "execution_count": null,
      "metadata": {
        "collapsed": false
      },
      "outputs": [],
      "source": [
        "import numpy as np\nimport matplotlib.pyplot as plt\n\n# first define the ratios\nr1 = 0.2       # 20%\nr2 = r1 + 0.4  # 40%\n\n# define some sizes of the scatter marker\nsizes = np.array([60, 80, 120])\n\n# calculate the points of the first pie marker\n#\n# these are just the origin (0,0) +\n# some points on a circle cos,sin\nx = [0] + np.cos(np.linspace(0, 2 * np.pi * r1, 10)).tolist()\ny = [0] + np.sin(np.linspace(0, 2 * np.pi * r1, 10)).tolist()\nxy1 = np.column_stack([x, y])\ns1 = np.abs(xy1).max()\n\nx = [0] + np.cos(np.linspace(2 * np.pi * r1, 2 * np.pi * r2, 10)).tolist()\ny = [0] + np.sin(np.linspace(2 * np.pi * r1, 2 * np.pi * r2, 10)).tolist()\nxy2 = np.column_stack([x, y])\ns2 = np.abs(xy2).max()\n\nx = [0] + np.cos(np.linspace(2 * np.pi * r2, 2 * np.pi, 10)).tolist()\ny = [0] + np.sin(np.linspace(2 * np.pi * r2, 2 * np.pi, 10)).tolist()\nxy3 = np.column_stack([x, y])\ns3 = np.abs(xy3).max()\n\nfig, ax = plt.subplots()\nax.scatter(range(3), range(3), marker=xy1,\n           s=s1 ** 2 * sizes, facecolor='blue')\nax.scatter(range(3), range(3), marker=xy2,\n           s=s2 ** 2 * sizes, facecolor='green')\nax.scatter(range(3), range(3), marker=xy3,\n           s=s3 ** 2 * sizes, facecolor='red')\n\nplt.show()"
      ]
    },
    {
      "cell_type": "markdown",
      "metadata": {},
      "source": [
        "------------\n\nReferences\n\"\"\"\"\"\"\"\"\"\"\n\nThe use of the following functions, methods, classes and modules is shown\nin this example:\n\n"
      ]
    },
    {
      "cell_type": "code",
      "execution_count": null,
      "metadata": {
        "collapsed": false
      },
      "outputs": [],
      "source": [
        "import matplotlib\nmatplotlib.axes.Axes.scatter\nmatplotlib.pyplot.scatter"
      ]
    }
  ],
  "metadata": {
    "kernelspec": {
      "display_name": "Python 3",
      "language": "python",
      "name": "python3"
    },
    "language_info": {
      "codemirror_mode": {
        "name": "ipython",
        "version": 3
      },
      "file_extension": ".py",
      "mimetype": "text/x-python",
      "name": "python",
      "nbconvert_exporter": "python",
      "pygments_lexer": "ipython3",
      "version": "3.7.2"
    }
  },
  "nbformat": 4,
  "nbformat_minor": 0
}