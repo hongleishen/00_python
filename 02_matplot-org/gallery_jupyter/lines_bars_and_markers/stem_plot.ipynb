{
  "cells": [
    {
      "cell_type": "code",
      "execution_count": null,
      "metadata": {
        "collapsed": false
      },
      "outputs": [],
      "source": [
        "%matplotlib inline"
      ]
    },
    {
      "cell_type": "markdown",
      "metadata": {},
      "source": [
        "\n# Stem Plot\n\n\nStem plot plots vertical lines from baseline to the y-coordinate\nPlotting cosine(x) w.r.t x, using '-.' as the pattern\nfor plotting vertical lines\n\n"
      ]
    },
    {
      "cell_type": "code",
      "execution_count": null,
      "metadata": {
        "collapsed": false
      },
      "outputs": [],
      "source": [
        "import matplotlib.pyplot as plt\nimport numpy as np\n\n# returns 10 evenly spaced samples from 0.1 to 2*PI\nx = np.linspace(0.1, 2 * np.pi, 10)\n\nmarkerline, stemlines, baseline = plt.stem(x, np.cos(x), '-.')\n\n# setting property of baseline with color red and linewidth 2\nplt.setp(baseline, color='r', linewidth=2)\n\nplt.show()"
      ]
    },
    {
      "cell_type": "markdown",
      "metadata": {},
      "source": [
        "This example makes use of:\n* :meth:`matplotlib.axes.Axes.stem`\n\n"
      ]
    }
  ],
  "metadata": {
    "kernelspec": {
      "display_name": "Python 3",
      "language": "python",
      "name": "python3"
    },
    "language_info": {
      "codemirror_mode": {
        "name": "ipython",
        "version": 3
      },
      "file_extension": ".py",
      "mimetype": "text/x-python",
      "name": "python",
      "nbconvert_exporter": "python",
      "pygments_lexer": "ipython3",
      "version": "3.7.2"
    }
  },
  "nbformat": 4,
  "nbformat_minor": 0
}