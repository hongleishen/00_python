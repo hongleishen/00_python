{
  "cells": [
    {
      "cell_type": "code",
      "execution_count": null,
      "metadata": {
        "collapsed": false
      },
      "outputs": [],
      "source": [
        "%matplotlib inline"
      ]
    },
    {
      "cell_type": "markdown",
      "metadata": {},
      "source": [
        "\n===============================================\nCreating a timeline with lines, dates, and text\n===============================================\n\nHow to create a simple timeline using Matplotlib release dates.\n\nTimelines can be created with a collection of dates and text. In this example,\nwe show how to create a simple timeline using the dates for recent releases\nof Matplotlib. First, we'll pull the data from GitHub.\n\n"
      ]
    },
    {
      "cell_type": "code",
      "execution_count": null,
      "metadata": {
        "collapsed": false
      },
      "outputs": [],
      "source": [
        "import matplotlib.pyplot as plt\nimport numpy as np\nimport matplotlib.dates as mdates\nfrom datetime import datetime\n\n# A list of Matplotlib releases and their dates\n# Taken from https://api.github.com/repos/matplotlib/matplotlib/releases\nnames = ['v2.2.2', 'v2.2.1', 'v2.2.0', 'v2.1.2', 'v2.1.1', 'v2.1.0', 'v2.0.2',\n         'v2.0.1', 'v2.0.0', 'v1.5.3', 'v1.5.2', 'v1.5.1', 'v1.5.0', 'v1.4.3',\n         'v1.4.2', 'v1.4.1', 'v1.4.0']\n\ndates = ['2018-03-17T03:00:07Z', '2018-03-16T22:06:39Z',\n         '2018-03-06T12:53:32Z', '2018-01-18T04:56:47Z',\n         '2017-12-10T04:47:38Z', '2017-10-07T22:35:12Z',\n         '2017-05-10T02:11:15Z', '2017-05-02T01:59:49Z',\n         '2017-01-17T02:59:36Z', '2016-09-09T03:00:52Z',\n         '2016-07-03T15:52:01Z', '2016-01-10T22:38:50Z',\n         '2015-10-29T21:40:23Z', '2015-02-16T04:22:54Z',\n         '2014-10-26T03:24:13Z', '2014-10-18T18:56:23Z',\n         '2014-08-26T21:06:04Z']\ndates = [datetime.strptime(ii, \"%Y-%m-%dT%H:%M:%SZ\") for ii in dates]"
      ]
    },
    {
      "cell_type": "markdown",
      "metadata": {},
      "source": [
        "Next, we'll iterate through each date and plot it on a horizontal line.\nWe'll add some styling to the text so that overlaps aren't as strong.\n\nNote that Matplotlib will automatically plot datetime inputs.\n\n"
      ]
    },
    {
      "cell_type": "code",
      "execution_count": null,
      "metadata": {
        "collapsed": false
      },
      "outputs": [],
      "source": [
        "levels = np.array([-5, 5, -3, 3, -1, 1])\nfig, ax = plt.subplots(figsize=(8, 5))\n\n# Create the base line\nstart = min(dates)\nstop = max(dates)\nax.plot((start, stop), (0, 0), 'k', alpha=.5)\n\n# Iterate through releases annotating each one\nfor ii, (iname, idate) in enumerate(zip(names, dates)):\n    level = levels[ii % 6]\n    vert = 'top' if level < 0 else 'bottom'\n\n    ax.scatter(idate, 0, s=100, facecolor='w', edgecolor='k', zorder=9999)\n    # Plot a line up to the text\n    ax.plot((idate, idate), (0, level), c='r', alpha=.7)\n    # Give the text a faint background and align it properly\n    ax.text(idate, level, iname,\n            horizontalalignment='right', verticalalignment=vert, fontsize=14,\n            backgroundcolor=(1., 1., 1., .3))\nax.set(title=\"Matplotlib release dates\")\n# Set the xticks formatting\n# format xaxis with 3 month intervals\nax.get_xaxis().set_major_locator(mdates.MonthLocator(interval=3))\nax.get_xaxis().set_major_formatter(mdates.DateFormatter(\"%b %Y\"))\nfig.autofmt_xdate()\n\n# Remove components for a cleaner look\nplt.setp((ax.get_yticklabels() + ax.get_yticklines() +\n          list(ax.spines.values())), visible=False)\nplt.show()"
      ]
    }
  ],
  "metadata": {
    "kernelspec": {
      "display_name": "Python 3",
      "language": "python",
      "name": "python3"
    },
    "language_info": {
      "codemirror_mode": {
        "name": "ipython",
        "version": 3
      },
      "file_extension": ".py",
      "mimetype": "text/x-python",
      "name": "python",
      "nbconvert_exporter": "python",
      "pygments_lexer": "ipython3",
      "version": "3.7.2"
    }
  },
  "nbformat": 4,
  "nbformat_minor": 0
}