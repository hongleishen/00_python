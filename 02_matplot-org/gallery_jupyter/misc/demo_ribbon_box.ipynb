{
  "cells": [
    {
      "cell_type": "code",
      "execution_count": null,
      "metadata": {
        "collapsed": false
      },
      "outputs": [],
      "source": [
        "%matplotlib inline"
      ]
    },
    {
      "cell_type": "markdown",
      "metadata": {},
      "source": [
        "\n# Demo Ribbon Box\n\n\n\n"
      ]
    },
    {
      "cell_type": "code",
      "execution_count": null,
      "metadata": {
        "collapsed": false
      },
      "outputs": [],
      "source": [
        "import numpy as np\n\nfrom matplotlib import cbook, colors as mcolors\nfrom matplotlib.image import BboxImage\nimport matplotlib.pyplot as plt\n\n\nclass RibbonBox:\n\n    original_image = plt.imread(\n        cbook.get_sample_data(\"Minduka_Present_Blue_Pack.png\"))\n    cut_location = 70\n    b_and_h = original_image[:, :, 2:3]\n    color = original_image[:, :, 2:3] - original_image[:, :, 0:1]\n    alpha = original_image[:, :, 3:4]\n    nx = original_image.shape[1]\n\n    def __init__(self, color):\n        rgb = mcolors.to_rgba(color)[:3]\n        self.im = np.dstack(\n            [self.b_and_h - self.color * (1 - np.array(rgb)), self.alpha])\n\n    def get_stretched_image(self, stretch_factor):\n        stretch_factor = max(stretch_factor, 1)\n        ny, nx, nch = self.im.shape\n        ny2 = int(ny*stretch_factor)\n        return np.vstack(\n            [self.im[:self.cut_location],\n             np.broadcast_to(\n                 self.im[self.cut_location], (ny2 - ny, nx, nch)),\n             self.im[self.cut_location:]])\n\n\nclass RibbonBoxImage(BboxImage):\n    zorder = 1\n\n    def __init__(self, bbox, color, **kwargs):\n        super().__init__(bbox, **kwargs)\n        self._ribbonbox = RibbonBox(color)\n\n    def draw(self, renderer, *args, **kwargs):\n        bbox = self.get_window_extent(renderer)\n        stretch_factor = bbox.height / bbox.width\n\n        ny = int(stretch_factor*self._ribbonbox.nx)\n        if self.get_array() is None or self.get_array().shape[0] != ny:\n            arr = self._ribbonbox.get_stretched_image(stretch_factor)\n            self.set_array(arr)\n\n        super().draw(renderer, *args, **kwargs)\n\n\nif True:\n    from matplotlib.transforms import Bbox, TransformedBbox\n    from matplotlib.ticker import ScalarFormatter\n\n    # Fixing random state for reproducibility\n    np.random.seed(19680801)\n\n    fig, ax = plt.subplots()\n\n    years = np.arange(2004, 2009)\n    box_colors = [(0.8, 0.2, 0.2),\n                  (0.2, 0.8, 0.2),\n                  (0.2, 0.2, 0.8),\n                  (0.7, 0.5, 0.8),\n                  (0.3, 0.8, 0.7),\n                  ]\n    heights = np.random.random(years.shape) * 7000 + 3000\n\n    fmt = ScalarFormatter(useOffset=False)\n    ax.xaxis.set_major_formatter(fmt)\n\n    for year, h, bc in zip(years, heights, box_colors):\n        bbox0 = Bbox.from_extents(year - 0.4, 0., year + 0.4, h)\n        bbox = TransformedBbox(bbox0, ax.transData)\n        rb_patch = RibbonBoxImage(bbox, bc, interpolation=\"bicubic\")\n\n        ax.add_artist(rb_patch)\n\n        ax.annotate(r\"%d\" % (int(h/100.)*100),\n                    (year, h), va=\"bottom\", ha=\"center\")\n\n    patch_gradient = BboxImage(ax.bbox, interpolation=\"bicubic\", zorder=0.1)\n    gradient = np.zeros((2, 2, 4))\n    gradient[:, :, :3] = [1, 1, 0.]\n    gradient[:, :, 3] = [[0.1, 0.3], [0.3, 0.5]]  # alpha channel\n    patch_gradient.set_array(gradient)\n    ax.add_artist(patch_gradient)\n\n    ax.set_xlim(years[0] - 0.5, years[-1] + 0.5)\n    ax.set_ylim(0, 10000)\n\n    plt.show()"
      ]
    }
  ],
  "metadata": {
    "kernelspec": {
      "display_name": "Python 3",
      "language": "python",
      "name": "python3"
    },
    "language_info": {
      "codemirror_mode": {
        "name": "ipython",
        "version": 3
      },
      "file_extension": ".py",
      "mimetype": "text/x-python",
      "name": "python",
      "nbconvert_exporter": "python",
      "pygments_lexer": "ipython3",
      "version": "3.7.2"
    }
  },
  "nbformat": 4,
  "nbformat_minor": 0
}