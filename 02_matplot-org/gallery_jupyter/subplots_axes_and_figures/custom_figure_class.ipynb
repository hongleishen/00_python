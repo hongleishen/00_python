{
  "cells": [
    {
      "cell_type": "code",
      "execution_count": null,
      "metadata": {
        "collapsed": false
      },
      "outputs": [],
      "source": [
        "%matplotlib inline"
      ]
    },
    {
      "cell_type": "markdown",
      "metadata": {},
      "source": [
        "\n# Custom Figure Class\n\n\nYou can pass a custom Figure constructor to figure if you want to derive from\nthe default Figure.  This simple example creates a figure with a figure title.\n\n"
      ]
    },
    {
      "cell_type": "code",
      "execution_count": null,
      "metadata": {
        "collapsed": false
      },
      "outputs": [],
      "source": [
        "import matplotlib.pyplot as plt\nfrom matplotlib.figure import Figure\n\n\nclass MyFigure(Figure):\n    def __init__(self, *args, figtitle='hi mom', **kwargs):\n        \"\"\"\n        custom kwarg figtitle is a figure title\n        \"\"\"\n        super().__init__(*args, **kwargs)\n        self.text(0.5, 0.95, figtitle, ha='center')\n\n\nfig = plt.figure(FigureClass=MyFigure, figtitle='my title')\nax = fig.subplots()\nax.plot([1, 2, 3])\n\nplt.show()"
      ]
    }
  ],
  "metadata": {
    "kernelspec": {
      "display_name": "Python 3",
      "language": "python",
      "name": "python3"
    },
    "language_info": {
      "codemirror_mode": {
        "name": "ipython",
        "version": 3
      },
      "file_extension": ".py",
      "mimetype": "text/x-python",
      "name": "python",
      "nbconvert_exporter": "python",
      "pygments_lexer": "ipython3",
      "version": "3.7.2"
    }
  },
  "nbformat": 4,
  "nbformat_minor": 0
}