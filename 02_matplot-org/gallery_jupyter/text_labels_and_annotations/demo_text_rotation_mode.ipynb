{
  "cells": [
    {
      "cell_type": "code",
      "execution_count": null,
      "metadata": {
        "collapsed": false
      },
      "outputs": [],
      "source": [
        "%matplotlib inline"
      ]
    },
    {
      "cell_type": "markdown",
      "metadata": {},
      "source": [
        "# Demo Text Rotation Mode\n\n\nThe axes' method `~.axes.Axes.text` takes an argument ``rotation_mode`` that\ncontrols the alignment and rotation of the text. If ``rotation_mode`` is\n``None`` or ``default`` the text will first be rotated and then aligned\naccording to the horizontal and vertical alignments (``ha`` and ``va`` in the\nexample). If ``rotation_mode`` is ``anchor`` the text is aligned before\nrotation.\n\n\n"
      ]
    },
    {
      "cell_type": "code",
      "execution_count": null,
      "metadata": {
        "collapsed": false
      },
      "outputs": [],
      "source": [
        "from mpl_toolkits.axes_grid1.axes_grid import ImageGrid\n\n\ndef test_rotation_mode(fig, mode, subplot_location):\n    ha_list = \"left center right\".split()\n    va_list = \"top center baseline bottom\".split()\n    grid = ImageGrid(fig, subplot_location,\n                     nrows_ncols=(len(va_list), len(ha_list)),\n                     share_all=True, aspect=True,\n                     # label_mode='1',\n                     cbar_mode=None)\n\n    for ha, ax in zip(ha_list, grid.axes_row[-1]):\n        ax.axis[\"bottom\"].label.set_text(ha)\n\n    # create a grid of axes to display text on.\n    grid.axes_row[0][1].set_title(mode, size=\"large\")\n\n    for va, ax in zip(va_list, grid.axes_column[0]):\n        ax.axis[\"left\"].label.set_text(va)\n\n    # use a different horizontal and vertical alignment for the text in each\n    # axes.\n    i = 0\n    for va in va_list:\n        for ha in ha_list:\n            ax = grid[i]\n            for axis in ax.axis.values():\n                axis.toggle(ticks=False, ticklabels=False)\n\n            # add text to the axes. Set the rotation_mode, horizontal\n            # alignment (ha) and vertical alignment (va).\n            ax.text(0.5, 0.5, \"Tpg\",\n                    size=\"large\", rotation=40,\n                    bbox=dict(boxstyle=\"square,pad=0.\",\n                              ec=\"none\", fc=\"0.5\", alpha=0.5),\n                    ha=ha, va=va,\n                    rotation_mode=mode)\n            ax.axvline(0.5)\n            ax.axhline(0.5)\n            i += 1\n\n\nif 1:\n    import matplotlib.pyplot as plt\n    fig = plt.figure(1, figsize=(5.5, 4))\n    fig.clf()\n\n    test_rotation_mode(fig, \"default\", 121)\n    test_rotation_mode(fig, \"anchor\", 122)\n    plt.show()"
      ]
    },
    {
      "cell_type": "markdown",
      "metadata": {},
      "source": [
        "------------\n\nReferences\n\"\"\"\"\"\"\"\"\"\"\n\nThe use of the following method is shown in this example:\n\n"
      ]
    },
    {
      "cell_type": "code",
      "execution_count": null,
      "metadata": {
        "collapsed": false
      },
      "outputs": [],
      "source": [
        "import matplotlib\nmatplotlib.axes.Axes.text"
      ]
    }
  ],
  "metadata": {
    "kernelspec": {
      "display_name": "Python 3",
      "language": "python",
      "name": "python3"
    },
    "language_info": {
      "codemirror_mode": {
        "name": "ipython",
        "version": 3
      },
      "file_extension": ".py",
      "mimetype": "text/x-python",
      "name": "python",
      "nbconvert_exporter": "python",
      "pygments_lexer": "ipython3",
      "version": "3.7.2"
    }
  },
  "nbformat": 4,
  "nbformat_minor": 0
}