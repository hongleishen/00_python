{
  "cells": [
    {
      "cell_type": "code",
      "execution_count": null,
      "metadata": {
        "collapsed": false
      },
      "outputs": [],
      "source": [
        "%matplotlib inline"
      ]
    },
    {
      "cell_type": "markdown",
      "metadata": {},
      "source": [
        "\n# STIX Fonts Demo\n\n\n\n"
      ]
    },
    {
      "cell_type": "code",
      "execution_count": null,
      "metadata": {
        "collapsed": false
      },
      "outputs": [],
      "source": [
        "import matplotlib.pyplot as plt\nimport numpy as np\n\ntests = [\n    r'$\\mathcircled{123} \\mathrm{\\mathcircled{123}}'\n    r' \\mathbf{\\mathcircled{123}}$',\n    r'$\\mathsf{Sans \\Omega} \\mathrm{\\mathsf{Sans \\Omega}}'\n    r' \\mathbf{\\mathsf{Sans \\Omega}}$',\n    r'$\\mathtt{Monospace}$',\n    r'$\\mathcal{CALLIGRAPHIC}$',\n    r'$\\mathbb{Blackboard \\pi}$',\n    r'$\\mathrm{\\mathbb{Blackboard \\pi}}$',\n    r'$\\mathbf{\\mathbb{Blackboard \\pi}}$',\n    r'$\\mathfrak{Fraktur} \\mathbf{\\mathfrak{Fraktur}}$',\n    r'$\\mathscr{Script}$']\n\n\nplt.figure(figsize=(8, (len(tests) * 1) + 2))\nplt.plot([0, 0], 'r')\nplt.axis([0, 3, -len(tests), 0])\nplt.yticks(-np.arange(len(tests)))\nfor i, s in enumerate(tests):\n    plt.text(0.1, -i, s, fontsize=32)\n\nplt.show()"
      ]
    }
  ],
  "metadata": {
    "kernelspec": {
      "display_name": "Python 3",
      "language": "python",
      "name": "python3"
    },
    "language_info": {
      "codemirror_mode": {
        "name": "ipython",
        "version": 3
      },
      "file_extension": ".py",
      "mimetype": "text/x-python",
      "name": "python",
      "nbconvert_exporter": "python",
      "pygments_lexer": "ipython3",
      "version": "3.7.2"
    }
  },
  "nbformat": 4,
  "nbformat_minor": 0
}