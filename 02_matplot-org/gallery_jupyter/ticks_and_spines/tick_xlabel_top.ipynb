{
  "cells": [
    {
      "cell_type": "code",
      "execution_count": null,
      "metadata": {
        "collapsed": false
      },
      "outputs": [],
      "source": [
        "%matplotlib inline"
      ]
    },
    {
      "cell_type": "markdown",
      "metadata": {},
      "source": [
        "\n# Set default x-axis tick labels on the top\n\n\nWe can use :rc:`xtick.labeltop` (default False) and :rc:`xtick.top`\n(default False) and :rc:`xtick.labelbottom` (default True) and\n:rc:`xtick.bottom` (default True) to control where on the axes ticks and\ntheir labels appear.\n\nThese properties can also be set in ``.matplotlib/matplotlibrc``.\n\n"
      ]
    },
    {
      "cell_type": "code",
      "execution_count": null,
      "metadata": {
        "collapsed": false
      },
      "outputs": [],
      "source": [
        "import matplotlib.pyplot as plt\nimport numpy as np\n\n\nplt.rcParams['xtick.bottom'] = plt.rcParams['xtick.labelbottom'] = False\nplt.rcParams['xtick.top'] = plt.rcParams['xtick.labeltop'] = True\n\nx = np.arange(10)\n\nfig, ax = plt.subplots()\n\nax.plot(x)\nax.set_title('xlabel top')  # Note title moves to make room for ticks\n\nplt.show()"
      ]
    }
  ],
  "metadata": {
    "kernelspec": {
      "display_name": "Python 3",
      "language": "python",
      "name": "python3"
    },
    "language_info": {
      "codemirror_mode": {
        "name": "ipython",
        "version": 3
      },
      "file_extension": ".py",
      "mimetype": "text/x-python",
      "name": "python",
      "nbconvert_exporter": "python",
      "pygments_lexer": "ipython3",
      "version": "3.7.2"
    }
  },
  "nbformat": 4,
  "nbformat_minor": 0
}