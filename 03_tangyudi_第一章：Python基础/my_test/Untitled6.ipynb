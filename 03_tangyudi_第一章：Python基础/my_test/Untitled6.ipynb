{
 "cells": [
  {
   "cell_type": "code",
   "execution_count": 8,
   "metadata": {},
   "outputs": [
    {
     "name": "stdout",
     "output_type": "stream",
     "text": [
      "val_of:  123\n",
      "val_of:  124\n",
      "val_of:  132\n",
      "val_of:  134\n",
      "val_of:  142\n",
      "val_of:  143\n",
      "val_of:  213\n",
      "val_of:  214\n",
      "val_of:  231\n",
      "val_of:  234\n",
      "val_of:  241\n",
      "val_of:  243\n",
      "val_of:  312\n",
      "val_of:  314\n",
      "val_of:  321\n",
      "val_of:  324\n",
      "val_of:  341\n",
      "val_of:  342\n",
      "val_of:  412\n",
      "val_of:  413\n",
      "val_of:  421\n",
      "val_of:  423\n",
      "val_of:  431\n",
      "val_of:  432\n",
      "num is:  24\n"
     ]
    }
   ],
   "source": [
    "num  = 0\n",
    "for i in range(1,5):\n",
    "    for j in range(1,5):\n",
    "        for k in range(1,5):\n",
    "            if (i != j and i != k and j != k):\n",
    "                num += 1\n",
    "                val = i*100 + j * 10 + k\n",
    "                print('val_of: ', val)\n",
    "print('num is: ', num)"
   ]
  },
  {
   "cell_type": "code",
   "execution_count": 11,
   "metadata": {},
   "outputs": [
    {
     "name": "stdout",
     "output_type": "stream",
     "text": [
      "please in put the 56\n",
      "please in put the 34\n",
      "please in put the 3\n",
      "The input number\n",
      "56\n",
      "34\n",
      "3\n",
      "After ch1\n",
      "34\n",
      "56\n",
      "3\n",
      "After ch2\n",
      "3\n",
      "56\n",
      "34\n",
      "After ch3\n",
      "3\n",
      "34\n",
      "56\n"
     ]
    }
   ],
   "source": [
    "l = [0,0,0]\n",
    "for i in range(0,3):\n",
    "    l[i] = int(input('please in put the '))\n",
    "\n",
    "print('The input number')\n",
    "for i in range(0,3):\n",
    "    print(l[i])\n",
    "\n",
    "def ch(ls,n1,n2):\n",
    "    if (ls[n1] > ls[n2]):\n",
    "        temp = ls[n1]\n",
    "        ls[n1] = ls[n2] \n",
    "        ls[n2] = temp\n",
    "ch(l,0,1)\n",
    "print('After ch1')\n",
    "for i in range(0,3):\n",
    "    print(l[i])\n",
    "    \n",
    "ch(l,0,2)\n",
    "print('After ch2')\n",
    "for i in range(0,3):\n",
    "    print(l[i])\n",
    "    \n",
    "ch(l,1,2)\n",
    "print('After ch3')\n",
    "for i in range(0,3):\n",
    "    print(l[i])\n",
    "    "
   ]
  },
  {
   "cell_type": "code",
   "execution_count": 19,
   "metadata": {},
   "outputs": [
    {
     "name": "stdout",
     "output_type": "stream",
     "text": [
      "2019-02-24 23:18:55\n",
      "2019-02-24 23:18:56\n"
     ]
    }
   ],
   "source": [
    "import time\n",
    "print(time.strftime('%Y-%m-%d %H:%M:%S',time.localtime()))\n",
    "time.sleep(1)\n",
    "print (time.strftime('%Y-%m-%d %H:%M:%S',time.localtime()))"
   ]
  },
  {
   "cell_type": "code",
   "execution_count": null,
   "metadata": {},
   "outputs": [],
   "source": [
    "while True:\n",
    "    time.sleep(1)\n",
    "    print (time.strftime('%Y-%m-%d %H:%M:%S',time.localtime()))"
   ]
  },
  {
   "cell_type": "code",
   "execution_count": 10,
   "metadata": {},
   "outputs": [
    {
     "name": "stdout",
     "output_type": "stream",
     "text": [
      "num:  0\n",
      "num:  1\n",
      "num:  153\n",
      "num:  370\n",
      "num:  371\n",
      "num:  407\n"
     ]
    }
   ],
   "source": [
    "\n",
    "for i in range(0,1000):\n",
    "    a =int(i / 100)\n",
    "    b = int((i-a*100)/10)\n",
    "    c = i % 10\n",
    "    \n",
    "    #print(a,b,c)\n",
    "    if (a*a*a + b*b*b + c*c*c) == i:\n",
    "       print('num: ',i)"
   ]
  },
  {
   "cell_type": "code",
   "execution_count": null,
   "metadata": {
    "collapsed": true
   },
   "outputs": [],
   "source": []
  },
  {
   "cell_type": "code",
   "execution_count": 5,
   "metadata": {},
   "outputs": [
    {
     "name": "stdout",
     "output_type": "stream",
     "text": [
      "4.89 9\n"
     ]
    }
   ],
   "source": [
    "a= 489/100\n",
    "b = 89%10\n",
    "print(a,b)"
   ]
  },
  {
   "cell_type": "code",
   "execution_count": null,
   "metadata": {
    "collapsed": true
   },
   "outputs": [],
   "source": []
  },
  {
   "cell_type": "code",
   "execution_count": 15,
   "metadata": {},
   "outputs": [
    {
     "name": "stdout",
     "output_type": "stream",
     "text": [
      "50.0\n",
      "25.0\n",
      "12.5\n",
      "6.25\n",
      "3.125\n",
      "1.5625\n",
      "0.78125\n",
      "0.390625\n",
      "0.1953125\n",
      "s = 299, h = 0.195312\n"
     ]
    }
   ],
   "source": [
    "\n",
    "for i in range(10):\n",
    "    if i == 0:\n",
    "        l = 100\n",
    "        h = 100\n",
    "    else:\n",
    "        h = h/2\n",
    "        print(h)\n",
    "        l += h*2\n",
    "print('s = %d, h = %f' % (l,h))\n",
    "        "
   ]
  },
  {
   "cell_type": "code",
   "execution_count": null,
   "metadata": {
    "collapsed": true
   },
   "outputs": [],
   "source": []
  }
 ],
 "metadata": {
  "kernelspec": {
   "display_name": "Python 3",
   "language": "python",
   "name": "python3"
  },
  "language_info": {
   "codemirror_mode": {
    "name": "ipython",
    "version": 3
   },
   "file_extension": ".py",
   "mimetype": "text/x-python",
   "name": "python",
   "nbconvert_exporter": "python",
   "pygments_lexer": "ipython3",
   "version": "3.6.3"
  }
 },
 "nbformat": 4,
 "nbformat_minor": 2
}
