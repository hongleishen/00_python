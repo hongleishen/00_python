{
 "cells": [
  {
   "cell_type": "code",
   "execution_count": 11,
   "metadata": {},
   "outputs": [],
   "source": [
    "text = \"\"\"musb_hw_ep -c-> musb\n",
    "musb_csr_regs -c-> musb_context_registers\n",
    "musb_context_registers -c-> musb\n",
    "musb_platform_ops -a-> musb\n",
    "musb_hw_ep -a-> musb\n",
    "musb -a-> musb_hw_ep\"\"\""
   ]
  },
  {
   "cell_type": "code",
   "execution_count": 12,
   "metadata": {},
   "outputs": [
    {
     "name": "stdout",
     "output_type": "stream",
     "text": [
      "musb_hw_ep -c-> musb\n",
      "musb_csr_regs -c-> musb_context_registers\n",
      "musb_context_registers -c-> musb\n",
      "musb_platform_ops -a-> musb\n",
      "musb_hw_ep -a-> musb\n",
      "musb -a-> musb_hw_ep\n"
     ]
    }
   ],
   "source": [
    "print(text)"
   ]
  },
  {
   "cell_type": "code",
   "execution_count": 13,
   "metadata": {},
   "outputs": [
    {
     "name": "stdout",
     "output_type": "stream",
     "text": [
      "['musb_hw_ep -c-> musb', 'musb_csr_regs -c-> musb_context_registers', 'musb_context_registers -c-> musb', 'musb_platform_ops -a-> musb', 'musb_hw_ep -a-> musb', 'musb -a-> musb_hw_ep']\n"
     ]
    }
   ],
   "source": [
    "lines = text.splitlines()\n",
    "print(lines)"
   ]
  },
  {
   "cell_type": "code",
   "execution_count": 14,
   "metadata": {},
   "outputs": [
    {
     "name": "stdout",
     "output_type": "stream",
     "text": [
      "{'musb': [], 'musb_context_registers': [], 'musb_hw_ep': []}\n",
      "{'musb': ['musb_hw_ep', 'musb_context_registers', 'musb_platform_ops', 'musb_hw_ep'], 'musb_context_registers': ['musb_csr_regs'], 'musb_hw_ep': ['musb']}\n"
     ]
    }
   ],
   "source": [
    "dclass = {}\n",
    "ls = []\n",
    "for item in lines:\n",
    "    class_ = item.split(' ')[2]\n",
    "    #print(class_)\n",
    "    dclass[class_] = []\n",
    "\n",
    "print(dclass)\n",
    "\n",
    "for item in lines:\n",
    "    struct_ = item.split(' ')[0]\n",
    "    class_ = item.split(' ')[2]\n",
    "\n",
    "    ls = dclass[class_]\n",
    "    ls.append(struct_)\n",
    "    dclass[class_] = ls\n",
    "    \n",
    "    \n",
    "\n",
    "print(dclass)"
   ]
  },
  {
   "cell_type": "code",
   "execution_count": 15,
   "metadata": {},
   "outputs": [],
   "source": [
    "d = {}\n",
    "d['a'] =[]"
   ]
  },
  {
   "cell_type": "code",
   "execution_count": 16,
   "metadata": {},
   "outputs": [
    {
     "data": {
      "text/plain": [
       "{'a': ['ab']}"
      ]
     },
     "execution_count": 16,
     "metadata": {},
     "output_type": "execute_result"
    }
   ],
   "source": [
    "ls = d['a'] \n",
    "ls.append('ab')\n",
    "d['a'] = ls\n",
    "d"
   ]
  },
  {
   "cell_type": "code",
   "execution_count": 17,
   "metadata": {},
   "outputs": [
    {
     "data": {
      "text/plain": [
       "{'a': ['ab', 'cd']}"
      ]
     },
     "execution_count": 17,
     "metadata": {},
     "output_type": "execute_result"
    }
   ],
   "source": [
    "ls = d['a'] \n",
    "ls.append('cd')\n",
    "d['a'] = ls\n",
    "d"
   ]
  },
  {
   "cell_type": "code",
   "execution_count": 18,
   "metadata": {},
   "outputs": [
    {
     "data": {
      "text/plain": [
       "{'musb': ['musb_hw_ep',\n",
       "  'musb_context_registers',\n",
       "  'musb_platform_ops',\n",
       "  'musb_hw_ep'],\n",
       " 'musb_context_registers': ['musb_csr_regs'],\n",
       " 'musb_hw_ep': ['musb']}"
      ]
     },
     "execution_count": 18,
     "metadata": {},
     "output_type": "execute_result"
    }
   ],
   "source": [
    "dclass"
   ]
  },
  {
   "cell_type": "code",
   "execution_count": 23,
   "metadata": {},
   "outputs": [
    {
     "data": {
      "text/plain": [
       "'musb_context_registers'"
      ]
     },
     "execution_count": 23,
     "metadata": {},
     "output_type": "execute_result"
    }
   ],
   "source": [
    "ls = dclass.keys()\n",
    "ls = list(ls)\n",
    "ls[1]"
   ]
  },
  {
   "cell_type": "code",
   "execution_count": 24,
   "metadata": {},
   "outputs": [
    {
     "data": {
      "text/plain": [
       "dict_values([['musb_hw_ep', 'musb_context_registers', 'musb_platform_ops', 'musb_hw_ep'], ['musb_csr_regs'], ['musb']])"
      ]
     },
     "execution_count": 24,
     "metadata": {},
     "output_type": "execute_result"
    }
   ],
   "source": [
    "dclass.values()"
   ]
  },
  {
   "cell_type": "code",
   "execution_count": 26,
   "metadata": {},
   "outputs": [
    {
     "data": {
      "text/plain": [
       "dict_items([('musb', ['musb_hw_ep', 'musb_context_registers', 'musb_platform_ops', 'musb_hw_ep']), ('musb_context_registers', ['musb_csr_regs']), ('musb_hw_ep', ['musb'])])"
      ]
     },
     "execution_count": 26,
     "metadata": {},
     "output_type": "execute_result"
    }
   ],
   "source": [
    "dclass.items()"
   ]
  },
  {
   "cell_type": "code",
   "execution_count": 27,
   "metadata": {},
   "outputs": [
    {
     "data": {
      "text/plain": [
       "['musb_hw_ep', 'musb_context_registers', 'musb_platform_ops', 'musb_hw_ep']"
      ]
     },
     "execution_count": 27,
     "metadata": {},
     "output_type": "execute_result"
    }
   ],
   "source": [
    "dclass.pop('musb')"
   ]
  },
  {
   "cell_type": "code",
   "execution_count": 28,
   "metadata": {},
   "outputs": [
    {
     "data": {
      "text/plain": [
       "{'musb_context_registers': ['musb_csr_regs'], 'musb_hw_ep': ['musb']}"
      ]
     },
     "execution_count": 28,
     "metadata": {},
     "output_type": "execute_result"
    }
   ],
   "source": [
    "dclass"
   ]
  },
  {
   "cell_type": "code",
   "execution_count": 37,
   "metadata": {},
   "outputs": [
    {
     "data": {
      "text/plain": [
       "'musb_hw_ep'"
      ]
     },
     "execution_count": 37,
     "metadata": {},
     "output_type": "execute_result"
    }
   ],
   "source": [
    "text = '\"struct musb_hw_ep\" : \"*bulk_ep\"'\n",
    "s = text.split(' ')[1][:-1]\n",
    "#s = ls[1][:-1]\n",
    "s"
   ]
  },
  {
   "cell_type": "code",
   "execution_count": 38,
   "metadata": {},
   "outputs": [
    {
     "data": {
      "text/plain": [
       "'10'"
      ]
     },
     "execution_count": 38,
     "metadata": {},
     "output_type": "execute_result"
    }
   ],
   "source": [
    "a = 10\n",
    "str(a)"
   ]
  },
  {
   "cell_type": "code",
   "execution_count": null,
   "metadata": {},
   "outputs": [],
   "source": []
  }
 ],
 "metadata": {
  "interpreter": {
   "hash": "5f45a8c2609f74ec4a30bd96729d3055b9be6f4382e3ec8683a673f9edf62653"
  },
  "kernelspec": {
   "display_name": "Python 3.10.0 64-bit",
   "language": "python",
   "name": "python3"
  },
  "language_info": {
   "codemirror_mode": {
    "name": "ipython",
    "version": 3
   },
   "file_extension": ".py",
   "mimetype": "text/x-python",
   "name": "python",
   "nbconvert_exporter": "python",
   "pygments_lexer": "ipython3",
   "version": "3.10.0"
  },
  "orig_nbformat": 4
 },
 "nbformat": 4,
 "nbformat_minor": 2
}
