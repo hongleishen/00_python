{
 "cells": [
  {
   "cell_type": "code",
   "execution_count": null,
   "metadata": {},
   "outputs": [],
   "source": [
    "#a = \"3.414\"\n",
    "#a = 3.414\n",
    "round(a, 2)"
   ]
  },
  {
   "cell_type": "code",
   "execution_count": null,
   "metadata": {},
   "outputs": [],
   "source": [
    "#a = \"3.414\"\n",
    "a = 3.4\n",
    "#b = float(a)\n",
    "float('%.2f'  % a)"
   ]
  },
  {
   "cell_type": "code",
   "execution_count": null,
   "metadata": {},
   "outputs": [],
   "source": [
    "#str = '额外    红包    250'\n",
    "str = 'this is hello    world'\n",
    "ls = str.split(' ')\n",
    "print(ls)\n",
    "for c in ls:\n",
    "    if (c != ''):\n",
    "        print(c)"
   ]
  },
  {
   "cell_type": "code",
   "execution_count": null,
   "metadata": {},
   "outputs": [],
   "source": []
  },
  {
   "cell_type": "code",
   "execution_count": null,
   "metadata": {},
   "outputs": [],
   "source": [
    "str = 'this is  a hello world'\n",
    "s1 = ''\n",
    "s2 = ' '\n",
    "s = 'a'\n",
    "if s == 'a':\n",
    "    print('s is a')\n",
    "\n",
    "if s1 == Null:\n",
    "    print(\"s1 is '' \")\n",
    "\n",
    "if s2 == ' ':\n",
    "    print(\"s2 is '' \")"
   ]
  },
  {
   "cell_type": "code",
   "execution_count": null,
   "metadata": {},
   "outputs": [],
   "source": [
    "\n",
    "\n",
    "dir('')\n",
    "['__add__', '__class__', '__contains__', '__delattr__', '__dir__', '__doc__', '__eq__', '__format__', '__ge__', '__getattribute__', '__getitem__', '__getnewargs__', '__gt__', '__hash__', '__init__', '__iter__', '__le__', '__len__', '__lt__', '__mod__', '__mul__', '__ne__', '__new__', '__reduce__', '__reduce_ex__', '__repr__', '__rmod__', '__rmul__', '__setattr__', '__sizeof__', '__str__', '__subclasshook__', 'capitalize', 'casefold', 'center', 'count', 'encode', 'endswith', 'expandtabs', 'find', 'format', 'format_map', 'index', 'isalnum', 'isalpha', 'isdecimal', 'isdigit', 'isidentifier', 'islower', 'isnumeric', 'isprintable', 'isspace', 'istitle', 'isupper', 'join', 'ljust', 'lower', 'lstrip', 'maketrans', 'partition', 'replace', 'rfind', 'rindex', 'rjust', 'rpartition', 'rsplit', 'rstrip', 'split', 'splitlines', 'startswith', 'strip', 'swapcase', 'title', 'translate', 'upper', 'zfill']\n"
   ]
  },
  {
   "cell_type": "code",
   "execution_count": null,
   "metadata": {},
   "outputs": [],
   "source": [
    " 2 List list=new ArrayList<>();\n",
    " 3 list.add(\"我是字符串\");\n",
    " 4 list.add(123);\n",
    " 5 list.add(new HashMap<>());\n",
    " 6 System.out.println(list);\n",
    "\n",
    " 7 list.remove(0);//根据下标移除\n",
    " 8 System.out.println(list);\n",
    " 9 list.remove(Integer.valueOf(123));//根据元素内容进行移除\n",
    "10 System.out.println(list);"
   ]
  },
  {
   "cell_type": "code",
   "execution_count": null,
   "metadata": {},
   "outputs": [],
   "source": [
    "#str = '额外    红包    250'\n",
    "str = 'this is hello    world'\n",
    "ls = str.split(' ')\n",
    "print(ls)\n",
    "\n",
    "for c in ls:\n",
    "    print(c)\n",
    "\n",
    "    if c == '   ':\n",
    "        print(\"this is a tab\")\n",
    "        ls.remove(' ')\n",
    "    if c == '':\n",
    "        print(\"this is a ''\")\n",
    "        ls.remove('')\n",
    "ls\n"
   ]
  },
  {
   "cell_type": "code",
   "execution_count": 4,
   "metadata": {},
   "outputs": [
    {
     "name": "stdout",
     "output_type": "stream",
     "text": [
      "['额外', '', '', '', '红包', '', '', '', '250\\n']\n"
     ]
    },
    {
     "data": {
      "text/plain": [
       "['额外', '红包', '250\\n']"
      ]
     },
     "execution_count": 4,
     "metadata": {},
     "output_type": "execute_result"
    }
   ],
   "source": [
    "\n",
    "str = \"额外    红包    250\\n\"\n",
    "#str = 'this is hello    world'\n",
    "ls = []\n",
    "ls = str.split(' ')\n",
    "print(ls)\n",
    "tmp = []\n",
    "\n",
    "for item in ls:\n",
    "    #print(c)\n",
    "    if item != '':\n",
    "        tmp.append(item)\n",
    "\n",
    "tmp"
   ]
  },
  {
   "cell_type": "code",
   "execution_count": 33,
   "metadata": {},
   "outputs": [
    {
     "name": "stdout",
     "output_type": "stream",
     "text": [
      "this\n",
      "this\n",
      "end\n"
     ]
    }
   ],
   "source": [
    "#str = \"额外    红包    250\\n\"\n",
    "#str = 'this hello    world\\n'\n",
    "str = 'this'\n",
    "print(str)\n",
    "#str.replace('   ', ' ')\n",
    "str.replace(\"t\", 'a')\n",
    "\n",
    "print(str)\n",
    "print(\"end\")\n",
    "\n"
   ]
  },
  {
   "cell_type": "code",
   "execution_count": 21,
   "metadata": {},
   "outputs": [
    {
     "name": "stdout",
     "output_type": "stream",
     "text": [
      "abc123\n"
     ]
    }
   ],
   "source": [
    "s  =  'abc:123'\n",
    "# 字符串拼接方式去除冒号\n",
    "new_s  =  s[: 3 ]  +  s[ 4 :]\n",
    "print (new_s)\n"
   ]
  },
  {
   "cell_type": "markdown",
   "metadata": {},
   "source": []
  },
  {
   "cell_type": "code",
   "execution_count": 22,
   "metadata": {},
   "outputs": [
    {
     "name": "stdout",
     "output_type": "stream",
     "text": [
      "abc123isk\n",
      "abc123xyz\n"
     ]
    }
   ],
   "source": [
    "# 去除字符串中相同的字符\n",
    "s  =  '\\tabc\\t123\\tisk'\n",
    "print (s.replace( '\\t' , ''))\n",
    " \n",
    " \n",
    "import  re\n",
    "# 去除\\r\\n\\t字符\n",
    "s  =  '\\r\\nabc\\t123\\nxyz'\n",
    "print (re.sub( '[\\r\\n\\t]' , '', s))\n"
   ]
  },
  {
   "cell_type": "code",
   "execution_count": null,
   "metadata": {},
   "outputs": [],
   "source": []
  },
  {
   "cell_type": "code",
   "execution_count": 28,
   "metadata": {},
   "outputs": [
    {
     "name": "stdout",
     "output_type": "stream",
     "text": [
      "{97: 120, 98: 121, 99: 122, 120: 97, 121: 98, 122: 99}\n",
      "xyz123abc\n"
     ]
    }
   ],
   "source": [
    "s  =  'abc123xyz'\n",
    "# a _> x, b_> y, c_> z，字符映射加密\n",
    "print ( str.maketrans( 'abcxyz' ,  'xyzabc' ))\n",
    "# translate把其转换成字符串\n",
    "print (s.translate( str.maketrans( 'abcxyz' ,  'xyzabc' )))\n"
   ]
  },
  {
   "cell_type": "code",
   "execution_count": 1,
   "metadata": {},
   "outputs": [
    {
     "data": {
      "text/plain": [
       "dict_keys(['额外', '固定', '抖音'])"
      ]
     },
     "execution_count": 1,
     "metadata": {},
     "output_type": "execute_result"
    }
   ],
   "source": [
    "d = {'额外': 0, '固定': 1, '抖音': 2}\n",
    "d.keys()"
   ]
  },
  {
   "cell_type": "code",
   "execution_count": 36,
   "metadata": {},
   "outputs": [
    {
     "name": "stdout",
     "output_type": "stream",
     "text": [
      "tbcdef\n"
     ]
    }
   ],
   "source": [
    "s  =  'abcdef'\n",
    "print (s.replace( 'a' , 't'))"
   ]
  },
  {
   "cell_type": "code",
   "execution_count": 14,
   "metadata": {},
   "outputs": [
    {
     "name": "stdout",
     "output_type": "stream",
     "text": [
      "dict_keys(['额外', '固定', '抖音', 'age', '申'])\n",
      "dict_values([0, 1, 2, 34, '张恒'])\n",
      "['额外', '固定', '抖音', 'age', '申']\n",
      "[0, 1, 2, 34, '张恒']\n"
     ]
    }
   ],
   "source": [
    "d = {'额外': 0, '固定': 1, '抖音': 2}\n",
    "d['age'] = 34\n",
    "d['申'] = '张恒'\n",
    "tmp1 = d.keys()\n",
    "tmp2 = d.values()\n",
    "print(tmp1)\n",
    "print(tmp2)\n",
    "print(list(tmp1))\n",
    "print(list(tmp2))"
   ]
  },
  {
   "cell_type": "code",
   "execution_count": 13,
   "metadata": {},
   "outputs": [
    {
     "name": "stdout",
     "output_type": "stream",
     "text": [
      "1\n",
      "3\n"
     ]
    }
   ],
   "source": [
    "ls = [1, 3, 5, 7]\n",
    "ls\n",
    "for i in ls:\n",
    "    if i == 5 :\n",
    "        break\n",
    "    print(i)"
   ]
  },
  {
   "cell_type": "code",
   "execution_count": 23,
   "metadata": {},
   "outputs": [
    {
     "name": "stdout",
     "output_type": "stream",
     "text": [
      "value 10\n"
     ]
    }
   ],
   "source": [
    "a = 10\n",
    "print('value', a)"
   ]
  },
  {
   "cell_type": "code",
   "execution_count": 22,
   "metadata": {},
   "outputs": [
    {
     "name": "stdout",
     "output_type": "stream",
     "text": [
      "True\n"
     ]
    }
   ],
   "source": [
    "ditem = {'extera': 0, 'fixed': 5, 'douyin': 2}\n",
    "line = ['鸡腿', '10', 'extera', 'fixed']\n",
    "print (ditem.get(line[0]) == None)"
   ]
  },
  {
   "cell_type": "code",
   "execution_count": 24,
   "metadata": {},
   "outputs": [
    {
     "data": {
      "text/plain": [
       "4"
      ]
     },
     "execution_count": 24,
     "metadata": {},
     "output_type": "execute_result"
    }
   ],
   "source": [
    "i = 3\n",
    "i += 1\n",
    "i"
   ]
  },
  {
   "cell_type": "code",
   "execution_count": 25,
   "metadata": {},
   "outputs": [
    {
     "data": {
      "text/plain": [
       "[4, 5, 6]"
      ]
     },
     "execution_count": 25,
     "metadata": {},
     "output_type": "execute_result"
    }
   ],
   "source": [
    "ls = [1, 2, 3]\n",
    "ls = [4, 5, 6]\n",
    "ls"
   ]
  },
  {
   "cell_type": "code",
   "execution_count": 26,
   "metadata": {},
   "outputs": [
    {
     "name": "stdout",
     "output_type": "stream",
     "text": [
      "0 1 2\n",
      "10 11 12\n"
     ]
    }
   ],
   "source": [
    "ls = [[0, 1, 2], [10, 11, 12]]\n",
    "for i,j , k in ls:\n",
    "    print(i, j, k)"
   ]
  },
  {
   "cell_type": "code",
   "execution_count": 27,
   "metadata": {},
   "outputs": [
    {
     "data": {
      "text/html": [
       "<div>\n",
       "<style scoped>\n",
       "    .dataframe tbody tr th:only-of-type {\n",
       "        vertical-align: middle;\n",
       "    }\n",
       "\n",
       "    .dataframe tbody tr th {\n",
       "        vertical-align: top;\n",
       "    }\n",
       "\n",
       "    .dataframe thead th {\n",
       "        text-align: right;\n",
       "    }\n",
       "</style>\n",
       "<table border=\"1\" class=\"dataframe\">\n",
       "  <thead>\n",
       "    <tr style=\"text-align: right;\">\n",
       "      <th></th>\n",
       "      <th>a</th>\n",
       "      <th>b</th>\n",
       "      <th>c</th>\n",
       "    </tr>\n",
       "  </thead>\n",
       "  <tbody>\n",
       "    <tr>\n",
       "      <th>0</th>\n",
       "      <td>0</td>\n",
       "      <td>1</td>\n",
       "      <td>2</td>\n",
       "    </tr>\n",
       "    <tr>\n",
       "      <th>1</th>\n",
       "      <td>10</td>\n",
       "      <td>11</td>\n",
       "      <td>12</td>\n",
       "    </tr>\n",
       "  </tbody>\n",
       "</table>\n",
       "</div>"
      ],
      "text/plain": [
       "    a   b   c\n",
       "0   0   1   2\n",
       "1  10  11  12"
      ]
     },
     "execution_count": 27,
     "metadata": {},
     "output_type": "execute_result"
    }
   ],
   "source": [
    "import pandas as pd\n",
    "cl = ['a', 'b', 'c']\n",
    "df = pd.DataFrame(data=ls, columns=cl)\n",
    "df"
   ]
  },
  {
   "cell_type": "code",
   "execution_count": 1,
   "metadata": {},
   "outputs": [
    {
     "name": "stdout",
     "output_type": "stream",
     "text": [
      "按值(value)排序:\n",
      "[(1, 2), (5, 12), (6, 18), (4, 24), (2, 56), (3, 323)]\n"
     ]
    }
   ],
   "source": [
    "def dictionairy():  \n",
    " \n",
    "    # 声明字典\n",
    "    key_value ={}     \n",
    " \n",
    "    # 初始化\n",
    "    key_value[2] = 56       \n",
    "    key_value[1] = 2 \n",
    "    key_value[5] = 12 \n",
    "    key_value[4] = 24\n",
    "    key_value[6] = 18      \n",
    "    key_value[3] = 323 \n",
    " \n",
    " \n",
    "    print (\"按值(value)排序:\")   \n",
    "    print(sorted(key_value.items(), key = lambda kv:(kv[1], kv[0])))     \n",
    "   \n",
    "def main(): \n",
    "    dictionairy()             \n",
    "      \n",
    "if __name__==\"__main__\":       \n",
    "    main()"
   ]
  },
  {
   "cell_type": "code",
   "execution_count": 2,
   "metadata": {},
   "outputs": [
    {
     "data": {
      "text/plain": [
       "{1: 11, 2: 22}"
      ]
     },
     "execution_count": 2,
     "metadata": {},
     "output_type": "execute_result"
    }
   ],
   "source": [
    "d = {}\n",
    "d[1] = 11\n",
    "d[2] = 22\n",
    "d"
   ]
  },
  {
   "cell_type": "code",
   "execution_count": 3,
   "metadata": {},
   "outputs": [
    {
     "data": {
      "text/plain": [
       "22"
      ]
     },
     "execution_count": 3,
     "metadata": {},
     "output_type": "execute_result"
    }
   ],
   "source": [
    "d[2]"
   ]
  },
  {
   "cell_type": "code",
   "execution_count": 7,
   "metadata": {},
   "outputs": [
    {
     "data": {
      "text/plain": [
       "{'a': 100, 'b': 80, 'c': 120}"
      ]
     },
     "execution_count": 7,
     "metadata": {},
     "output_type": "execute_result"
    }
   ],
   "source": [
    "d = {}\n",
    "d['a'] = 100\n",
    "d['b'] = 80\n",
    "d['c'] = 120\n",
    "d"
   ]
  },
  {
   "cell_type": "code",
   "execution_count": null,
   "metadata": {},
   "outputs": [],
   "source": []
  },
  {
   "cell_type": "code",
   "execution_count": 10,
   "metadata": {},
   "outputs": [
    {
     "data": {
      "text/plain": [
       "[('a', 1), ('b', 2), ('c', 3)]"
      ]
     },
     "execution_count": 10,
     "metadata": {},
     "output_type": "execute_result"
    }
   ],
   "source": [
    "\n",
    "d={'a':1,'c':3,'b':2}    # 首先建一个字典d\n",
    " \n",
    "#d.items()返回的是： dict_items([('a', 1), ('c', 3), ('b', 2)])\n",
    " \n",
    "d_order=sorted(d.items(),key=lambda x:x[1],reverse=False)  # 按字典集合中，每一个元组的第二个元素排列。\n",
    "                                                           # x相当于字典集合中遍历出来的一个元组。\n",
    "                                        \n",
    "d_order"
   ]
  },
  {
   "cell_type": "code",
   "execution_count": 11,
   "metadata": {},
   "outputs": [
    {
     "name": "stdout",
     "output_type": "stream",
     "text": [
      "{'a': 1, 'c': 3, 'b': 2}\n"
     ]
    },
    {
     "ename": "AttributeError",
     "evalue": "'dict_keys' object has no attribute 'sort'",
     "output_type": "error",
     "traceback": [
      "\u001b[1;31m---------------------------------------------------------------------------\u001b[0m",
      "\u001b[1;31mAttributeError\u001b[0m                            Traceback (most recent call last)",
      "\u001b[1;32mC:\\Users\\ADMINI~1\\AppData\\Local\\Temp/ipykernel_13388/2249024749.py\u001b[0m in \u001b[0;36m<module>\u001b[1;34m\u001b[0m\n\u001b[0;32m      5\u001b[0m \u001b[0mprint\u001b[0m\u001b[1;33m(\u001b[0m\u001b[0md\u001b[0m\u001b[1;33m)\u001b[0m\u001b[1;33m\u001b[0m\u001b[1;33m\u001b[0m\u001b[0m\n\u001b[0;32m      6\u001b[0m \u001b[1;33m\u001b[0m\u001b[0m\n\u001b[1;32m----> 7\u001b[1;33m \u001b[0morder\u001b[0m \u001b[1;33m=\u001b[0m \u001b[0msortedDictValues1\u001b[0m\u001b[1;33m(\u001b[0m\u001b[0md\u001b[0m\u001b[1;33m)\u001b[0m\u001b[1;33m\u001b[0m\u001b[1;33m\u001b[0m\u001b[0m\n\u001b[0m\u001b[0;32m      8\u001b[0m \u001b[0mprint\u001b[0m\u001b[1;33m(\u001b[0m\u001b[0morder\u001b[0m\u001b[1;33m)\u001b[0m\u001b[1;33m\u001b[0m\u001b[1;33m\u001b[0m\u001b[0m\n",
      "\u001b[1;32mC:\\Users\\ADMINI~1\\AppData\\Local\\Temp/ipykernel_13388/2249024749.py\u001b[0m in \u001b[0;36msortedDictValues1\u001b[1;34m(adict)\u001b[0m\n\u001b[0;32m      1\u001b[0m \u001b[1;32mdef\u001b[0m \u001b[0msortedDictValues1\u001b[0m\u001b[1;33m(\u001b[0m\u001b[0madict\u001b[0m\u001b[1;33m)\u001b[0m\u001b[1;33m:\u001b[0m\u001b[1;33m\u001b[0m\u001b[1;33m\u001b[0m\u001b[0m\n\u001b[0;32m      2\u001b[0m   \u001b[0mkeys\u001b[0m \u001b[1;33m=\u001b[0m \u001b[0madict\u001b[0m\u001b[1;33m.\u001b[0m\u001b[0mkeys\u001b[0m\u001b[1;33m(\u001b[0m\u001b[1;33m)\u001b[0m\u001b[1;33m\u001b[0m\u001b[1;33m\u001b[0m\u001b[0m\n\u001b[1;32m----> 3\u001b[1;33m   \u001b[0mkeys\u001b[0m\u001b[1;33m.\u001b[0m\u001b[0msort\u001b[0m\u001b[1;33m(\u001b[0m\u001b[1;33m)\u001b[0m\u001b[1;33m\u001b[0m\u001b[1;33m\u001b[0m\u001b[0m\n\u001b[0m\u001b[0;32m      4\u001b[0m   \u001b[1;32mreturn\u001b[0m \u001b[1;33m[\u001b[0m\u001b[0madict\u001b[0m\u001b[1;33m[\u001b[0m\u001b[0mkey\u001b[0m\u001b[1;33m]\u001b[0m \u001b[1;32mfor\u001b[0m \u001b[0mkey\u001b[0m \u001b[1;32min\u001b[0m \u001b[0mkeys\u001b[0m\u001b[1;33m]\u001b[0m\u001b[1;33m\u001b[0m\u001b[1;33m\u001b[0m\u001b[0m\n\u001b[0;32m      5\u001b[0m \u001b[0mprint\u001b[0m\u001b[1;33m(\u001b[0m\u001b[0md\u001b[0m\u001b[1;33m)\u001b[0m\u001b[1;33m\u001b[0m\u001b[1;33m\u001b[0m\u001b[0m\n",
      "\u001b[1;31mAttributeError\u001b[0m: 'dict_keys' object has no attribute 'sort'"
     ]
    }
   ],
   "source": [
    "def sortedDictValues1(adict):\n",
    "  keys = adict.keys()\n",
    "  keys.sort()\n",
    "  return [adict[key] for key in keys]\n",
    "print(d)\n",
    "\n",
    "order = sortedDictValues1(d)\n",
    "print(order)\n"
   ]
  },
  {
   "cell_type": "code",
   "execution_count": 12,
   "metadata": {},
   "outputs": [
    {
     "data": {
      "text/plain": [
       "dict_items([('a', 1), ('c', 3), ('b', 2)])"
      ]
     },
     "execution_count": 12,
     "metadata": {},
     "output_type": "execute_result"
    }
   ],
   "source": [
    "d.items()"
   ]
  },
  {
   "cell_type": "code",
   "execution_count": 22,
   "metadata": {},
   "outputs": [
    {
     "data": {
      "text/plain": [
       "[('b', 80), ('a', 100), ('c', 200)]"
      ]
     },
     "execution_count": 22,
     "metadata": {},
     "output_type": "execute_result"
    }
   ],
   "source": [
    "d = {}\n",
    "d['a'] = 100\n",
    "d['b'] = 80\n",
    "d['c'] = 200\n",
    "ls = sorted(d.items(), key = lambda kv:(kv[1], kv[0]))\n",
    "ls"
   ]
  },
  {
   "cell_type": "code",
   "execution_count": 23,
   "metadata": {},
   "outputs": [
    {
     "name": "stdout",
     "output_type": "stream",
     "text": [
      "['b', 'a', 'c'] [80, 100, 200]\n"
     ]
    }
   ],
   "source": [
    "ll = []\n",
    "lv = []\n",
    "lvc = []\n",
    "for l, v in ls:\n",
    "    #print(l, v)\n",
    "    ll.append(l)\n",
    "    lv.append(v)\n",
    "print(ll, lv)"
   ]
  },
  {
   "cell_type": "code",
   "execution_count": 26,
   "metadata": {},
   "outputs": [
    {
     "name": "stdout",
     "output_type": "stream",
     "text": [
      "0\n",
      "1\n",
      "2\n"
     ]
    }
   ],
   "source": [
    "for i in range(len(lv)):\n",
    "    print(i)\n",
    "    if lv[i] - lv[i-1] < 500:\n",
    "        lvc.append(lv[i]*1)\n",
    "    else:\n",
    "        lvc.append(lv[i])"
   ]
  },
  {
   "cell_type": "code",
   "execution_count": 35,
   "metadata": {},
   "outputs": [],
   "source": [
    "lv = [80, 100, 110, 1500, 1800, 3000, 3100, 4000, 50000]"
   ]
  },
  {
   "cell_type": "code",
   "execution_count": 44,
   "metadata": {},
   "outputs": [
    {
     "name": "stdout",
     "output_type": "stream",
     "text": [
      "1 100\n",
      "1 < 500\n",
      "2 110\n",
      "2 < 500\n",
      "3 1500\n",
      "4 1800\n",
      "4 < 500\n",
      "5 3000\n",
      "6 3100\n",
      "6 < 500\n",
      "7 4000\n",
      "8 50000\n",
      "[80, 600, 1110, 1500, 2300, 3000, 3600, 4000, 50000]\n"
     ]
    }
   ],
   "source": [
    "k = 500\n",
    "lvc = []\n",
    "lvc.append(lv[0])\n",
    "for i in range(1, len(lv)):\n",
    "    print(i, lv[i] )\n",
    "    if lv[i] - lv[i-1] < 500:\n",
    "        print(i, '< 500')\n",
    "        lvc.append(lv[i] + k)\n",
    "        k += 500\n",
    "    else:\n",
    "        lvc.append(lv[i])\n",
    "        k = 500\n",
    "print(lvc)"
   ]
  },
  {
   "cell_type": "code",
   "execution_count": 1,
   "metadata": {},
   "outputs": [
    {
     "data": {
      "text/plain": [
       "[2, 3, 4]"
      ]
     },
     "execution_count": 1,
     "metadata": {},
     "output_type": "execute_result"
    }
   ],
   "source": [
    "ls = [2, 3, 4]\n",
    "ls"
   ]
  },
  {
   "cell_type": "code",
   "execution_count": 2,
   "metadata": {},
   "outputs": [
    {
     "data": {
      "text/plain": [
       "[1, 2, 3, 4]"
      ]
     },
     "execution_count": 2,
     "metadata": {},
     "output_type": "execute_result"
    }
   ],
   "source": [
    "ls.insert(0, 1)\n",
    "ls"
   ]
  },
  {
   "cell_type": "code",
   "execution_count": 3,
   "metadata": {},
   "outputs": [
    {
     "name": "stdout",
     "output_type": "stream",
     "text": [
      "a b\n"
     ]
    }
   ],
   "source": [
    "print('a', 'b')"
   ]
  },
  {
   "cell_type": "code",
   "execution_count": null,
   "metadata": {},
   "outputs": [],
   "source": []
  }
 ],
 "metadata": {
  "interpreter": {
   "hash": "648bca9fd0697557feb7f87c727782d3be20f0657a0796b704786a14ded61895"
  },
  "kernelspec": {
   "display_name": "Python 3.10.0 64-bit",
   "language": "python",
   "name": "python3"
  },
  "language_info": {
   "codemirror_mode": {
    "name": "ipython",
    "version": 3
   },
   "file_extension": ".py",
   "mimetype": "text/x-python",
   "name": "python",
   "nbconvert_exporter": "python",
   "pygments_lexer": "ipython3",
   "version": "3.10.0"
  },
  "orig_nbformat": 4
 },
 "nbformat": 4,
 "nbformat_minor": 2
}
