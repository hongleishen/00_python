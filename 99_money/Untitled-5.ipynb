{
 "cells": [
  {
   "cell_type": "code",
   "execution_count": 1,
   "metadata": {},
   "outputs": [
    {
     "name": "stdout",
     "output_type": "stream",
     "text": [
      "11.17\n",
      "    计数器  20  花呗\n",
      "    抖音    150\n",
      "    约会    130\n",
      "\n",
      "\n",
      "    日常  衣服  2000 平安信\n",
      "    电池    2   平安\n",
      "    income  工资 18000  招商\n",
      "    鸡腿    10\n",
      "    电池    2   平安\n",
      "    抖音    60\n",
      "    额外 代付   172 平安\n",
      "    额外 机票   450\n",
      "\n",
      "\n"
     ]
    }
   ],
   "source": [
    "fa = open('a.txt', encoding='utf-8')\n",
    "ina = fa.read()\n",
    "print(ina)"
   ]
  },
  {
   "cell_type": "code",
   "execution_count": 3,
   "metadata": {},
   "outputs": [
    {
     "name": "stdout",
     "output_type": "stream",
     "text": [
      "11.19\n",
      "    抖音    150\n",
      "    额外    代付-耳环   172 农商\n",
      "    日常    约会    130\n"
     ]
    }
   ],
   "source": [
    "fb = open('b.txt', encoding='utf-8')\n",
    "inb = fb.read()\n",
    "print(inb)"
   ]
  },
  {
   "cell_type": "code",
   "execution_count": 5,
   "metadata": {},
   "outputs": [
    {
     "name": "stdout",
     "output_type": "stream",
     "text": [
      "11.17\n",
      "    计数器  20  花呗\n",
      "    抖音    150\n",
      "    约会    130\n",
      "\n",
      "\n",
      "    日常  衣服  2000 平安信\n",
      "    电池    2   平安\n",
      "    income  工资 18000  招商\n",
      "    鸡腿    10\n",
      "    电池    2   平安\n",
      "    抖音    60\n",
      "    额外 代付   172 平安\n",
      "    额外 机票   450\n",
      "\n",
      "11.19\n",
      "    抖音    150\n",
      "    额外    代付-耳环   172 农商\n",
      "    日常    约会    130\n"
     ]
    }
   ],
   "source": [
    "str = ina + inb\n",
    "print(str)"
   ]
  },
  {
   "cell_type": "code",
   "execution_count": null,
   "metadata": {},
   "outputs": [],
   "source": []
  }
 ],
 "metadata": {
  "interpreter": {
   "hash": "648bca9fd0697557feb7f87c727782d3be20f0657a0796b704786a14ded61895"
  },
  "kernelspec": {
   "display_name": "Python 3.10.0 64-bit",
   "language": "python",
   "name": "python3"
  },
  "language_info": {
   "codemirror_mode": {
    "name": "ipython",
    "version": 3
   },
   "file_extension": ".py",
   "mimetype": "text/x-python",
   "name": "python",
   "nbconvert_exporter": "python",
   "pygments_lexer": "ipython3",
   "version": "3.10.0"
  },
  "orig_nbformat": 4
 },
 "nbformat": 4,
 "nbformat_minor": 2
}
