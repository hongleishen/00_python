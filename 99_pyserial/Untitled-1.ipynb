{
 "cells": [
  {
   "cell_type": "code",
   "execution_count": 4,
   "metadata": {},
   "outputs": [
    {
     "name": "stdout",
     "output_type": "stream",
     "text": [
      "串口详情参数： Serial<id=0x244f04733d0, open=True>(port='COM4', baudrate=115200, bytesize=8, parity='N', stopbits=1, timeout=5, xonxoff=False, rtscts=False, dsrdtr=False)\n"
     ]
    }
   ],
   "source": [
    "import serial\n",
    "\n",
    "portx = \"COM4\"\n",
    "bps = 115200\n",
    "timex = 5\n",
    "ser = serial.Serial(portx, bps, timeout = timex)\n",
    "print(\"串口详情参数：\", ser)"
   ]
  },
  {
   "cell_type": "code",
   "execution_count": 6,
   "metadata": {},
   "outputs": [
    {
     "name": "stdout",
     "output_type": "stream",
     "text": [
      "Help on function read in module serial.serialwin32:\n",
      "\n",
      "read(self, size=1)\n",
      "    Read size bytes from the serial port. If a timeout is set it may\n",
      "    return less characters as requested. With no timeout it will block\n",
      "    until the requested number of bytes is read.\n",
      "\n"
     ]
    }
   ],
   "source": [
    "help(serial.Serial.read)"
   ]
  },
  {
   "cell_type": "code",
   "execution_count": null,
   "metadata": {},
   "outputs": [],
   "source": []
  }
 ],
 "metadata": {
  "interpreter": {
   "hash": "5f45a8c2609f74ec4a30bd96729d3055b9be6f4382e3ec8683a673f9edf62653"
  },
  "kernelspec": {
   "display_name": "Python 3.10.0 64-bit",
   "language": "python",
   "name": "python3"
  },
  "language_info": {
   "codemirror_mode": {
    "name": "ipython",
    "version": 3
   },
   "file_extension": ".py",
   "mimetype": "text/x-python",
   "name": "python",
   "nbconvert_exporter": "python",
   "pygments_lexer": "ipython3",
   "version": "3.10.0"
  },
  "orig_nbformat": 4
 },
 "nbformat": 4,
 "nbformat_minor": 2
}
